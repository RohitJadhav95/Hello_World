{
  "nbformat": 4,
  "nbformat_minor": 0,
  "metadata": {
    "colab": {
      "name": "1. Data Wrangling",
      "provenance": [],
      "collapsed_sections": [],
      "include_colab_link": true
    },
    "kernelspec": {
      "name": "python3",
      "display_name": "Python 3"
    }
  },
  "cells": [
    {
      "cell_type": "markdown",
      "metadata": {
        "id": "view-in-github",
        "colab_type": "text"
      },
      "source": [
        "<a href=\"https://colab.research.google.com/github/RohitJadhav95/Hello_World/blob/master/1_Data_Wrangling.ipynb\" target=\"_parent\"><img src=\"https://colab.research.google.com/assets/colab-badge.svg\" alt=\"Open In Colab\"/></a>"
      ]
    },
    {
      "cell_type": "markdown",
      "metadata": {
        "id": "LEezvi_vecqv",
        "colab_type": "text"
      },
      "source": [
        "Before we start, we need to import all the libraries we need. It's best practice to do this in the beginning. We'll be importing:\n",
        "\n",
        "* [Pandas](https://pandas.pydata.org/pandas-docs/stable/): Library that will be used to load and manipulate the data\n",
        "* [Matplotlib](https://matplotlib.org): Used to visualize our data\n",
        "\n",
        "Some other libraries might be imported for administrative reasons, but they won't be related to what we'd be learning in this lesson."
      ]
    },
    {
      "cell_type": "markdown",
      "metadata": {
        "id": "dGHiBIrrQXVY",
        "colab_type": "text"
      },
      "source": [
        "# Lesson 1: The Data Science Process\n",
        "\n",
        "What question are you trying to answer? Once you have that, your data science adventure begins. You must go out and find your data. More often than not, the data you have will not be in the form you want it to be in. You'll need to load, clean, transform and, most importantly, understand it (the top part of this diagram). Let's begin!\n",
        "\n",
        "![alt text](https://revsearch-assets.s3.amazonaws.com/images/ds_process1.png)\n",
        "\n",
        "## Learning Objectives:\n",
        "\n",
        "* Learn the data science enviroment:\n",
        "  * Python\n",
        "  * Jupyter Notebook\n",
        "  * Pandas\n",
        "* Learn the vocabularly of data: \n",
        "  * Table Data (versus unstructured data)\n",
        "  * Features and target (columns)\n",
        "  * Observations (rows)\n",
        "* Learn the basics of reading/loading data using Pandas\n",
        "* Learn how to clean data and deal with missing values\n",
        "* Learn how to visualize data and understand data better\n",
        "* Communicate effectively through data\n",
        "\n",
        "\n",
        "### Definitions\n",
        "  * **Jupyter Notebook:** The Jupyter Notebook is an open-source web application that allows you to create and share documents that contain live code, equations, visualizations and narrative text. You type the code in *cells* here in your browser. When you run a cell, your code runs on the cloud and the results are shown in your browser.\n",
        "  * **Target Column:** This is the variable that you're trying to predict given other values. This is also called the _response_ / _predicted_ / _dependent_ / _label_ variable.\n",
        "  * **Feature Columns:** These are the variables that we use to calculate/predict the value of the target. These are also called _explanatory_ / _predictor_ / _feature_ / _signal_ variables. \n",
        "  * **Observations:** We have one observation per row. A observation is one instance of our data. In the below, a observation is a basketball player.\n",
        "  * **Tablular Data:** Data that has been organized into a matrix or table, i.e. into columns and rows. Unstructured data may be speech recordings or pictures. We will be dealing with tabular data. Note, we often interchange the words columns<>variables and rows<>observations.\n",
        "\n",
        "<img src=\"https://media.geeksforgeeks.org/wp-content/uploads/finallpandas.png\" alt=\"alt\" width=\"500\"/>"
      ]
    },
    {
      "cell_type": "code",
      "metadata": {
        "id": "CiS8wwAPfyIS",
        "colab_type": "code",
        "colab": {}
      },
      "source": [
        "# We import the required libraries before using them\n",
        "# In a single Jupyter Notebook, libraries should be imported once and can be \n",
        "# used throughout the notebook\n",
        "\n",
        "# The 'as' keyword just renames the library, making it easier for us to access it\n",
        "import pandas as pd\n",
        "from matplotlib import pyplot as plt"
      ],
      "execution_count": 0,
      "outputs": []
    },
    {
      "cell_type": "markdown",
      "metadata": {
        "id": "H1gsxVsVvxp8",
        "colab_type": "text"
      },
      "source": [
        "## Pandas\n",
        "\n",
        "Pandas is one of the top (if not the top) data manipulation and analysis libraries for Python right now. It loads data into these easy to access and manipulate structures called _DataFrames_. Data in these is 'arranged' similar to what you might have seen in a spreasheet, with rows specifying data points and columns specifying certain categories/features/variables.\n",
        "\n",
        "In the following cell we're just setting up some configurations for the library. This will change how the library outputs the data for us to see."
      ]
    },
    {
      "cell_type": "code",
      "metadata": {
        "id": "IYy3pAl_wmHE",
        "colab_type": "code",
        "colab": {}
      },
      "source": [
        "pd.options.display.float_format = \"{:.2f}\".format # This will make pandas output fractions up to 2 decimal places\n",
        "pd.options.display.max_rows = 10 # Pandas will output at max 10 rows from the data"
      ],
      "execution_count": 0,
      "outputs": []
    },
    {
      "cell_type": "markdown",
      "metadata": {
        "id": "NY0t1ycNcxX8",
        "colab_type": "text"
      },
      "source": [
        "## Research Question\n",
        "\n",
        "We'll be using the a dataset from Kaggle which contains nutritional data and customer ratings for 77 different cereals. You can find more information about it [here](https://www.kaggle.com/crawford/80-cereals). \n",
        "\n",
        "Our question is \"*Can we predict the consumer **cereal rating** using the other features supplied in the dataset*?\""
      ]
    },
    {
      "cell_type": "markdown",
      "metadata": {
        "id": "fGPU_xnNw7ur",
        "colab_type": "text"
      },
      "source": [
        "## Data Collection\n",
        "\n",
        "The dataset we're going to used is stored on Kaggle, not locally on our machine. However, we can just supply the link to the file to Pandas and it will take care of the loading for us. "
      ]
    },
    {
      "cell_type": "code",
      "metadata": {
        "id": "Mc5te-Fgxjf6",
        "colab_type": "code",
        "colab": {}
      },
      "source": [
        "# Here we load a dataset from a url. You can check out the raw dataset by copying the url into your browser!\n",
        "cereal_data = pd.read_csv(\"https://cosmos-api-prod-datasetsbucket-iuph41amgzfj.s3.amazonaws.com/cereal.csv\", sep=\",\")\n",
        "\n",
        "# This will give us the first few rows of the data that was loaded\n",
        "cereal_data.head()"
      ],
      "execution_count": 0,
      "outputs": []
    },
    {
      "cell_type": "markdown",
      "metadata": {
        "id": "aYhG_miuCf5V",
        "colab_type": "text"
      },
      "source": [
        "## Data Cleaning\n",
        "\n",
        "You loaded your data. How do you get a quick look at it? One of the simple and effective ways to sanity check your data is to check the descriptive statistics for it. We look at the mean, median, max, min and see if they make sense."
      ]
    },
    {
      "cell_type": "code",
      "metadata": {
        "id": "0ItTU3DOCxrt",
        "colab_type": "code",
        "colab": {}
      },
      "source": [
        "# This will give us descriptive statistics (such as count, mean, min/max, \n",
        "# standard deviation) for each column in out dataset\n",
        "descriptive_stats = cereal_data.describe()\n",
        "\n",
        "# Just having a variable name on a the last line of a cell outputs the value of\n",
        "# that variable\n",
        "descriptive_stats"
      ],
      "execution_count": 0,
      "outputs": []
    },
    {
      "cell_type": "markdown",
      "metadata": {
        "id": "04JU4oKyHop9",
        "colab_type": "text"
      },
      "source": [
        "**Note:** You can see that the _count_ for some of the columns is less than 77. This is so because these columns have some missing values. \n",
        "\n",
        "### Handling Missing Values (Imputation)\n",
        "\n",
        "Most datasets you encounter will not be perfect and will require some cleaning and processing before you can use them. An important part of the cleaning process is dealing with missing values. There are multiple ways of doing this, and we'll discuss a few of them."
      ]
    },
    {
      "cell_type": "markdown",
      "metadata": {
        "id": "kuJuQ1IEJXdV",
        "colab_type": "text"
      },
      "source": [
        "#### Replace missing values with zero\n",
        "\n",
        "Missing values or a value of \"NaN\" don't agree with most models, and you'd end up getting errors when trying to train one on a dataset with missing data. One way to fix this is to replace all missing values with zero."
      ]
    },
    {
      "cell_type": "code",
      "metadata": {
        "id": "c6cpYlTJIUjf",
        "colab_type": "code",
        "colab": {}
      },
      "source": [
        "# The function will create a copy of the data with the missing values filled in\n",
        "cereal_data_missing_to_zero = cereal_data.fillna(0)\n",
        "\n",
        "# Note that all columns have a count of 77 now\n",
        "cereal_data_missing_to_zero.describe()"
      ],
      "execution_count": 0,
      "outputs": []
    },
    {
      "cell_type": "markdown",
      "metadata": {
        "id": "l4Xo3YZGKVGU",
        "colab_type": "text"
      },
      "source": [
        "#### Replace missing values with mean values for that column\n",
        "\n",
        "Another method of dealing with missing values is replacing them with the mean value for that column/feature."
      ]
    },
    {
      "cell_type": "code",
      "metadata": {
        "id": "6lUKM2NBKk_b",
        "colab_type": "code",
        "colab": {}
      },
      "source": [
        "cereal_data_missing_to_mean = cereal_data.fillna(cereal_data.mean())\n",
        "\n",
        "# We'll use this data as our main dataset\n",
        "cereal_data = cereal_data_missing_to_mean \n",
        "\n",
        "cereal_data_missing_to_mean.describe()"
      ],
      "execution_count": 0,
      "outputs": []
    },
    {
      "cell_type": "markdown",
      "metadata": {
        "id": "KuKAZGLJMRvD",
        "colab_type": "text"
      },
      "source": [
        "#### Picking which type of imputation\n",
        "You can see the difference in mean, standard deviation and other metrics between the two methods for the columns with missing values (carbo, potass, and sugars). Note, for example in potass, that the mean is lower when imputing with 0's. Why is that? We have to be careful when imputing! But imputing with the mean is normally a good starting point. (Median is better when our data has outliers or a non-normal distribution.) Whatever you do, make sure to document it."
      ]
    },
    {
      "cell_type": "markdown",
      "metadata": {
        "id": "5B2gUVGqLgBK",
        "colab_type": "text"
      },
      "source": [
        "## Exploration & Visualization\n",
        "\n",
        "Matplotlib is a widely used library for visualizing data. We'll start off with basic scatter plots to check *correlation* between the **rating** and other features.\n",
        "\n",
        "Looking at how your data is correlated with what your trying to predict is an important step. It helps you choose predictors to use and what kind of a model to consider. "
      ]
    },
    {
      "cell_type": "code",
      "metadata": {
        "id": "8xx-ZJKCSIHb",
        "colab_type": "code",
        "colab": {}
      },
      "source": [
        "cereal_target_name = \"rating\"\n",
        "cereal_target = cereal_data[cereal_target_name]\n",
        "fig = plt.figure(figsize=(15, 15))\n",
        "\n",
        "# The enumerate function will give us the index as well as the value\n",
        "for (i, column) in enumerate(list(cereal_data.columns)):\n",
        "  if(column == cereal_target_name) or (column == \"name\"):\n",
        "    continue\n",
        "  plt.subplot(5,3,i)\n",
        "  plt.scatter(cereal_data[column], cereal_data[cereal_target_name])\n",
        "  plt.xlabel(column)\n",
        "  plt.ylabel(cereal_target_name)\n",
        "  \n",
        "plt.show()"
      ],
      "execution_count": 0,
      "outputs": []
    },
    {
      "cell_type": "markdown",
      "metadata": {
        "id": "OOZP1hgsSBnA",
        "colab_type": "text"
      },
      "source": [
        "**Note:** From the plots, we can see:\n",
        "* A weak negative linear relationship between the rating and sugar \n",
        "* A positive linear relationship between rating and fiber.\n",
        "\n",
        "#### Pearson’s Product-Moment Correlation\n",
        "The most common measure of correlation is Pearson’s product-moment correlation, which is commonly referred to simply as the correlation, the correlation coefficient, or just the letter r (you can ignore the p for now)\n",
        ":\n",
        "\n",
        "- A correlation of 1 indicates a perfect positive correlation.\n",
        "- A correlation of -1 indicates a perfect negative correlation.\n",
        "- A correlation of 0 indicates that there is no relationship between the different variables.\n",
        "- Values between -1 and 1 denote the strength of the correlation, as shown in the example below.\n",
        "\n",
        "<img src=\"https://46gyn61z4i0t1u1pnq2bbk2e-wpengine.netdna-ssl.com/wp-content/uploads/2018/05/Pearson%E2%80%99s-Product-Moment-Correlation.png\" alt=\"alt\" width=\"500\"/>\n",
        "\n",
        "[source](https://www.displayr.com/what-is-correlation/)\n",
        "\n",
        "\n",
        "#### Heatmap\n",
        "Another way to view correlation between all variables in your dataset is a heatmap. If we denote the heatmap as $A$, then each $A_{ij}$ entry/box in the heatmap corresponds to the correlation between variables $i$ and $j$. Note that $-1<A_{ij}<1$. Also, note that $A_{ii}=1$, meaning that each variable is perfectly correlated with itself!\n"
      ]
    },
    {
      "cell_type": "code",
      "metadata": {
        "id": "fTOPq3Yk_P2O",
        "colab_type": "code",
        "colab": {}
      },
      "source": [
        "# seaborn is another plotting library, like matplotlib\n",
        "import seaborn as sns\n",
        "corrmat = cereal_data.corr()\n",
        "f, ax = plt.subplots(figsize=(9, 9))\n",
        "f = sns.heatmap(corrmat, vmax=.8, square=True, annot=True, cbar=False)"
      ],
      "execution_count": 0,
      "outputs": []
    },
    {
      "cell_type": "markdown",
      "metadata": {
        "id": "DJRbG7i8zs73",
        "colab_type": "text"
      },
      "source": [
        "# Challenges - Data Wrangling\n",
        "\n",
        "For this lesson's challenge, we'll be using the dataset from 1985 Ward's Automotive Yearbook that is part of the [UCI Machine Learning Repository](https://archive.ics.uci.edu/ml/datasets) under [Automobile Data Set](https://archive.ics.uci.edu/ml/datasets/automobile).  You can find a description of the data at [https://archive.ics.uci.edu/ml/datasets/automobile](https://archive.ics.uci.edu/ml/datasets/automobile). \n",
        "\n",
        "### Getting Points:\n",
        "\n",
        "Each section of the challenge will have some instructions, please **carefully read these**. They will instruct you on how to 'submit' your answers. This will usually involve setting a variable to a specific value / DataFrame. \n",
        "\n",
        "The cell that follows the one that you edit will contain code that will submit your answer. **DO NOT CHANGE THIS CODE**. If you end up altering it, please seek out one of the volunteers and they'll help you out. \n",
        "\n",
        "## Set the 'email' variable below to the email you used to sign up for Cosmos (and run the cell)"
      ]
    },
    {
      "cell_type": "code",
      "metadata": {
        "id": "wgz6acv-O5wE",
        "colab_type": "code",
        "colab": {}
      },
      "source": [
        "# These are internal libraries used to manage your submissions to the challenges\n",
        "# You won't have to install / import these in your normal usage\n",
        "!pip install pycosmos --upgrade --quiet\n",
        "from pycosmos import CosmosProject\n",
        "tamu_datathon = CosmosProject('tamu_datathon')\n",
        "\n",
        "email = \"rohit.jadhav@tamu.edu\" # Enter your email here"
      ],
      "execution_count": 0,
      "outputs": []
    },
    {
      "cell_type": "markdown",
      "metadata": {
        "id": "YCHyoUms0JN8",
        "colab_type": "text"
      },
      "source": [
        "## Loading & Describing Data - 10 Points\n",
        "\n",
        "You can find the dataset we'll be loading at this link: https://cosmos-api-prod-datasetsbucket-iuph41amgzfj.s3.amazonaws.com/cars_data.csv\n",
        "\n",
        "Load this data into pandas and calculate the descriptive statistics for it.\n",
        "\n",
        "### Tasks to get points\n",
        "* Set a variable named '*symboling_descriptive*' equal to the descriptive statistics for the column 'symboling'. You can get a column from a dataframe with square brackets. For example, if you have a dataframe named df and a column in df named col, df[\"col\"] will get that column.\n",
        "* Run the cell that follows this one\n",
        "* Check the output of that cell to see whether you suceeded or whether any changes to your code are needed"
      ]
    },
    {
      "cell_type": "code",
      "metadata": {
        "id": "QgJJ_mhE3H5Z",
        "colab_type": "code",
        "colab": {}
      },
      "source": [
        "# ENTER YOUR CODE HERE\n",
        "\n",
        "# Set this variable equal to your answer\n",
        "symboling_descriptive = None"
      ],
      "execution_count": 0,
      "outputs": []
    },
    {
      "cell_type": "code",
      "metadata": {
        "id": "746OZVP63VFs",
        "colab_type": "code",
        "cellView": "form",
        "colab": {}
      },
      "source": [
        "#@title Run to get points for: Loading & Describing Data (10 Points)\n",
        "tamu_datathon.judge_attempt('load_describe_data', email, list(symboling_descriptive))"
      ],
      "execution_count": 0,
      "outputs": []
    },
    {
      "cell_type": "markdown",
      "metadata": {
        "id": "lgNEbGlJPES_",
        "colab_type": "text"
      },
      "source": [
        "## Dealing with Missing Data - 10 Points\n",
        "\n",
        "The data we previously loaded contains missing values. Now we need to deal with them. Replacing missing values with zeroes is trivial, so let's try something a little bit more difficult.\n",
        "\n",
        "### Tasks to get points\n",
        "* Replace the missing values in the data previously loaded with the **mean** of that column/feature\n",
        "* After doing the step above, set the variable *losses_descriptive* to the descriptive statistics of the 'losses' column **after replacing the missing values**\n",
        "* Run the cell that follows this one\n",
        "* Check the output of that cell to see whether you suceeded or whether any changes to your code are needed\n"
      ]
    },
    {
      "cell_type": "code",
      "metadata": {
        "id": "l3whuxpFTEX-",
        "colab_type": "code",
        "colab": {}
      },
      "source": [
        "# ENTER YOUR CODE HERE\n",
        "\n",
        "# Set this variable equal to your answer\n",
        "losses_descriptive = None"
      ],
      "execution_count": 0,
      "outputs": []
    },
    {
      "cell_type": "code",
      "metadata": {
        "id": "7NMtVwCEVs47",
        "colab_type": "code",
        "cellView": "form",
        "colab": {}
      },
      "source": [
        "#@title Run to get points for: Dealing with Missing Data (10 Points)\n",
        "tamu_datathon.judge_attempt('deal_with_missing_data', email, list(losses_descriptive))"
      ],
      "execution_count": 0,
      "outputs": []
    },
    {
      "cell_type": "markdown",
      "metadata": {
        "id": "jQOedMICxuDH",
        "colab_type": "text"
      },
      "source": [
        "## Visualizing Data - 10 Points\n",
        "\n",
        "Now that we have the data ready, we can start looking at it. We'll be visualizing some features/columns and looking at their relationships.\n",
        "\n",
        "### Tasks to get points\n",
        "* Create a plot with the _price_ column on the y-axis and the _weight_ column on the x-axis\n",
        "* Check the relationship between these variables, and store it in the *price_weight_relationship* variable\n",
        "* Run the cell that follows this one\n",
        "* Check the output of that cell to see whether you suceeded or whether any changes to your code are needed\n",
        "\n",
        "## Note:\n",
        "\n",
        "The values of the relationship can be 'Positive', 'Negative' or 'No Relationship'."
      ]
    },
    {
      "cell_type": "code",
      "metadata": {
        "id": "Pyy_1YowytN9",
        "colab_type": "code",
        "colab": {}
      },
      "source": [
        "# ENTER YOUR CODE HERE\n",
        "\n",
        "# Set this variable equal to your answer (Hint: It should be a string)\n",
        "price_weight_relationship = None"
      ],
      "execution_count": 0,
      "outputs": []
    },
    {
      "cell_type": "code",
      "metadata": {
        "id": "sy4ndA1YuhbI",
        "colab_type": "code",
        "cellView": "form",
        "colab": {}
      },
      "source": [
        "#@title Run to get points for: Visualizing Data (10 Points)\n",
        "tamu_datathon.judge_attempt('visualize_data', email, [price_weight_relationship])"
      ],
      "execution_count": 0,
      "outputs": []
    }
  ]
}